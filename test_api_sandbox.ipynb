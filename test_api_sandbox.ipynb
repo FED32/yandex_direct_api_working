{
 "cells": [
  {
   "cell_type": "markdown",
   "id": "b590a799",
   "metadata": {},
   "source": [
    "https://yandex.ru/dev/direct/doc/dg/concepts/overview.html"
   ]
  },
  {
   "cell_type": "code",
   "execution_count": 1,
   "id": "f80a6b11",
   "metadata": {},
   "outputs": [],
   "source": [
    "import requests\n",
    "import json\n",
    "import pandas as pd"
   ]
  },
  {
   "cell_type": "code",
   "execution_count": 2,
   "id": "d8803b4d",
   "metadata": {},
   "outputs": [],
   "source": [
    "sandbox_url = 'https://api-sandbox.direct.yandex.com/json/v5/'\n",
    "real_url = 'https://api.direct.yandex.com/json/v5/'"
   ]
  },
  {
   "cell_type": "code",
   "execution_count": 3,
   "id": "4444e50d",
   "metadata": {},
   "outputs": [],
   "source": [
    "token = 'y0_AQAAAABihNGYAAhQ1wAAAADLKvrhX8L69sCOQii3e7pjpQ0tsAU4Ha4'\n",
    "login = \"sfedyusnin@yandex.ru\"\n",
    "# login = '1U2xnuajs1OT5pX7'"
   ]
  },
  {
   "cell_type": "code",
   "execution_count": 4,
   "id": "fb95376e",
   "metadata": {},
   "outputs": [],
   "source": [
    "head = {\"Authorization\": 'Bearer'+' '+token,\n",
    "#         \"Accept-Language\": \"ru\",\n",
    "        \"Client-Login\": login,\n",
    "        \"Content-Type\": \"application/json; charset=utf-8\"\n",
    "       }"
   ]
  },
  {
   "cell_type": "code",
   "execution_count": 5,
   "id": "fa8c6f42",
   "metadata": {},
   "outputs": [
    {
     "data": {
      "text/plain": [
       "200"
      ]
     },
     "execution_count": 5,
     "metadata": {},
     "output_type": "execute_result"
    }
   ],
   "source": [
    "method = 'campaigns'\n",
    "body = {\"method\": \"get\",\n",
    "        \"params\": {\"SelectionCriteria\": {},\n",
    "                   \"FieldNames\": [\"Id\", \"Name\"]\n",
    "                  }\n",
    "       }\n",
    "response = requests.post(sandbox_url+method, headers=head, data=json.dumps(body))\n",
    "response.status_code"
   ]
  },
  {
   "cell_type": "code",
   "execution_count": 6,
   "id": "f5bdbe46",
   "metadata": {},
   "outputs": [
    {
     "data": {
      "text/plain": [
       "{'result': {'Campaigns': [{'Id': 440401,\n",
       "    'Name': 'Test API Sandbox campaign 1'},\n",
       "   {'Name': 'Test API Sandbox campaign 2', 'Id': 440402},\n",
       "   {'Name': 'Test API Sandbox campaign 3', 'Id': 440403}]}}"
      ]
     },
     "execution_count": 6,
     "metadata": {},
     "output_type": "execute_result"
    }
   ],
   "source": [
    "response.json()"
   ]
  },
  {
   "cell_type": "code",
   "execution_count": 7,
   "id": "d851edbf",
   "metadata": {},
   "outputs": [
    {
     "data": {
      "text/html": [
       "<div>\n",
       "<style scoped>\n",
       "    .dataframe tbody tr th:only-of-type {\n",
       "        vertical-align: middle;\n",
       "    }\n",
       "\n",
       "    .dataframe tbody tr th {\n",
       "        vertical-align: top;\n",
       "    }\n",
       "\n",
       "    .dataframe thead th {\n",
       "        text-align: right;\n",
       "    }\n",
       "</style>\n",
       "<table border=\"1\" class=\"dataframe\">\n",
       "  <thead>\n",
       "    <tr style=\"text-align: right;\">\n",
       "      <th></th>\n",
       "      <th>Id</th>\n",
       "      <th>Name</th>\n",
       "    </tr>\n",
       "  </thead>\n",
       "  <tbody>\n",
       "    <tr>\n",
       "      <th>0</th>\n",
       "      <td>440401</td>\n",
       "      <td>Test API Sandbox campaign 1</td>\n",
       "    </tr>\n",
       "    <tr>\n",
       "      <th>1</th>\n",
       "      <td>440402</td>\n",
       "      <td>Test API Sandbox campaign 2</td>\n",
       "    </tr>\n",
       "    <tr>\n",
       "      <th>2</th>\n",
       "      <td>440403</td>\n",
       "      <td>Test API Sandbox campaign 3</td>\n",
       "    </tr>\n",
       "  </tbody>\n",
       "</table>\n",
       "</div>"
      ],
      "text/plain": [
       "       Id                         Name\n",
       "0  440401  Test API Sandbox campaign 1\n",
       "1  440402  Test API Sandbox campaign 2\n",
       "2  440403  Test API Sandbox campaign 3"
      ]
     },
     "execution_count": 7,
     "metadata": {},
     "output_type": "execute_result"
    }
   ],
   "source": [
    "pd.DataFrame(response.json()['result']['Campaigns'])"
   ]
  },
  {
   "cell_type": "code",
   "execution_count": null,
   "id": "2b6f2af1",
   "metadata": {},
   "outputs": [],
   "source": []
  },
  {
   "cell_type": "code",
   "execution_count": 8,
   "id": "56ade8f5",
   "metadata": {},
   "outputs": [
    {
     "data": {
      "text/plain": [
       "[440401, 440402, 440403]"
      ]
     },
     "execution_count": 8,
     "metadata": {},
     "output_type": "execute_result"
    }
   ],
   "source": [
    "campaigns = [aa['Id'] for aa in response.json()['result']['Campaigns']]\n",
    "campaigns"
   ]
  },
  {
   "cell_type": "code",
   "execution_count": 9,
   "id": "9a3a30f7",
   "metadata": {},
   "outputs": [
    {
     "data": {
      "text/plain": [
       "200"
      ]
     },
     "execution_count": 9,
     "metadata": {},
     "output_type": "execute_result"
    }
   ],
   "source": [
    "method = 'adgroups'\n",
    "body = {\"method\": \"get\",\n",
    "        \"params\": {\"SelectionCriteria\": {\"CampaignIds\": campaigns},\n",
    "                   \"FieldNames\": [\"Id\", \"Name\", \"Status\", \"Type\"]\n",
    "                  }\n",
    "       }\n",
    "response = requests.post(sandbox_url+method, headers=head, data=json.dumps(body))\n",
    "response.status_code"
   ]
  },
  {
   "cell_type": "code",
   "execution_count": 10,
   "id": "5e45a5be",
   "metadata": {},
   "outputs": [
    {
     "data": {
      "text/plain": [
       "{'result': {'AdGroups': [{'Id': 4382416,\n",
       "    'Name': 'Группа №4382416',\n",
       "    'Status': 'ACCEPTED',\n",
       "    'Type': 'TEXT_AD_GROUP'},\n",
       "   {'Id': 4382417,\n",
       "    'Name': 'Группа №4382417',\n",
       "    'Status': 'ACCEPTED',\n",
       "    'Type': 'TEXT_AD_GROUP'},\n",
       "   {'Id': 4382418,\n",
       "    'Name': 'Группа №4382418',\n",
       "    'Status': 'ACCEPTED',\n",
       "    'Type': 'TEXT_AD_GROUP'},\n",
       "   {'Id': 4382419,\n",
       "    'Name': 'Группа №4382419',\n",
       "    'Status': 'ACCEPTED',\n",
       "    'Type': 'TEXT_AD_GROUP'},\n",
       "   {'Id': 4382420,\n",
       "    'Name': 'Группа №4382420',\n",
       "    'Status': 'ACCEPTED',\n",
       "    'Type': 'TEXT_AD_GROUP'},\n",
       "   {'Id': 4382421,\n",
       "    'Name': 'Группа №4382421',\n",
       "    'Status': 'DRAFT',\n",
       "    'Type': 'TEXT_AD_GROUP'},\n",
       "   {'Id': 4382422,\n",
       "    'Name': 'Группа №4382422',\n",
       "    'Status': 'DRAFT',\n",
       "    'Type': 'TEXT_AD_GROUP'},\n",
       "   {'Id': 4382423,\n",
       "    'Name': 'Группа №4382423',\n",
       "    'Status': 'DRAFT',\n",
       "    'Type': 'TEXT_AD_GROUP'},\n",
       "   {'Id': 4382424,\n",
       "    'Name': 'Группа №4382424',\n",
       "    'Status': 'DRAFT',\n",
       "    'Type': 'TEXT_AD_GROUP'},\n",
       "   {'Id': 4382425,\n",
       "    'Name': 'Группа №4382425',\n",
       "    'Status': 'DRAFT',\n",
       "    'Type': 'TEXT_AD_GROUP'},\n",
       "   {'Id': 4382426,\n",
       "    'Name': 'Группа №4382426',\n",
       "    'Status': 'DRAFT',\n",
       "    'Type': 'TEXT_AD_GROUP'},\n",
       "   {'Id': 4382427,\n",
       "    'Name': 'Группа №4382427',\n",
       "    'Status': 'DRAFT',\n",
       "    'Type': 'TEXT_AD_GROUP'},\n",
       "   {'Id': 4382428,\n",
       "    'Name': 'Группа №4382428',\n",
       "    'Status': 'DRAFT',\n",
       "    'Type': 'TEXT_AD_GROUP'},\n",
       "   {'Id': 4382429,\n",
       "    'Name': 'Группа №4382429',\n",
       "    'Status': 'DRAFT',\n",
       "    'Type': 'TEXT_AD_GROUP'},\n",
       "   {'Id': 4382430,\n",
       "    'Name': 'Группа №4382430',\n",
       "    'Status': 'DRAFT',\n",
       "    'Type': 'TEXT_AD_GROUP'}]}}"
      ]
     },
     "execution_count": 10,
     "metadata": {},
     "output_type": "execute_result"
    }
   ],
   "source": [
    "response.json()"
   ]
  },
  {
   "cell_type": "code",
   "execution_count": 11,
   "id": "eec178b5",
   "metadata": {},
   "outputs": [
    {
     "data": {
      "text/html": [
       "<div>\n",
       "<style scoped>\n",
       "    .dataframe tbody tr th:only-of-type {\n",
       "        vertical-align: middle;\n",
       "    }\n",
       "\n",
       "    .dataframe tbody tr th {\n",
       "        vertical-align: top;\n",
       "    }\n",
       "\n",
       "    .dataframe thead th {\n",
       "        text-align: right;\n",
       "    }\n",
       "</style>\n",
       "<table border=\"1\" class=\"dataframe\">\n",
       "  <thead>\n",
       "    <tr style=\"text-align: right;\">\n",
       "      <th></th>\n",
       "      <th>Id</th>\n",
       "      <th>Name</th>\n",
       "      <th>Status</th>\n",
       "      <th>Type</th>\n",
       "    </tr>\n",
       "  </thead>\n",
       "  <tbody>\n",
       "    <tr>\n",
       "      <th>0</th>\n",
       "      <td>4382416</td>\n",
       "      <td>Группа №4382416</td>\n",
       "      <td>ACCEPTED</td>\n",
       "      <td>TEXT_AD_GROUP</td>\n",
       "    </tr>\n",
       "    <tr>\n",
       "      <th>1</th>\n",
       "      <td>4382417</td>\n",
       "      <td>Группа №4382417</td>\n",
       "      <td>ACCEPTED</td>\n",
       "      <td>TEXT_AD_GROUP</td>\n",
       "    </tr>\n",
       "    <tr>\n",
       "      <th>2</th>\n",
       "      <td>4382418</td>\n",
       "      <td>Группа №4382418</td>\n",
       "      <td>ACCEPTED</td>\n",
       "      <td>TEXT_AD_GROUP</td>\n",
       "    </tr>\n",
       "    <tr>\n",
       "      <th>3</th>\n",
       "      <td>4382419</td>\n",
       "      <td>Группа №4382419</td>\n",
       "      <td>ACCEPTED</td>\n",
       "      <td>TEXT_AD_GROUP</td>\n",
       "    </tr>\n",
       "    <tr>\n",
       "      <th>4</th>\n",
       "      <td>4382420</td>\n",
       "      <td>Группа №4382420</td>\n",
       "      <td>ACCEPTED</td>\n",
       "      <td>TEXT_AD_GROUP</td>\n",
       "    </tr>\n",
       "    <tr>\n",
       "      <th>5</th>\n",
       "      <td>4382421</td>\n",
       "      <td>Группа №4382421</td>\n",
       "      <td>DRAFT</td>\n",
       "      <td>TEXT_AD_GROUP</td>\n",
       "    </tr>\n",
       "    <tr>\n",
       "      <th>6</th>\n",
       "      <td>4382422</td>\n",
       "      <td>Группа №4382422</td>\n",
       "      <td>DRAFT</td>\n",
       "      <td>TEXT_AD_GROUP</td>\n",
       "    </tr>\n",
       "    <tr>\n",
       "      <th>7</th>\n",
       "      <td>4382423</td>\n",
       "      <td>Группа №4382423</td>\n",
       "      <td>DRAFT</td>\n",
       "      <td>TEXT_AD_GROUP</td>\n",
       "    </tr>\n",
       "    <tr>\n",
       "      <th>8</th>\n",
       "      <td>4382424</td>\n",
       "      <td>Группа №4382424</td>\n",
       "      <td>DRAFT</td>\n",
       "      <td>TEXT_AD_GROUP</td>\n",
       "    </tr>\n",
       "    <tr>\n",
       "      <th>9</th>\n",
       "      <td>4382425</td>\n",
       "      <td>Группа №4382425</td>\n",
       "      <td>DRAFT</td>\n",
       "      <td>TEXT_AD_GROUP</td>\n",
       "    </tr>\n",
       "    <tr>\n",
       "      <th>10</th>\n",
       "      <td>4382426</td>\n",
       "      <td>Группа №4382426</td>\n",
       "      <td>DRAFT</td>\n",
       "      <td>TEXT_AD_GROUP</td>\n",
       "    </tr>\n",
       "    <tr>\n",
       "      <th>11</th>\n",
       "      <td>4382427</td>\n",
       "      <td>Группа №4382427</td>\n",
       "      <td>DRAFT</td>\n",
       "      <td>TEXT_AD_GROUP</td>\n",
       "    </tr>\n",
       "    <tr>\n",
       "      <th>12</th>\n",
       "      <td>4382428</td>\n",
       "      <td>Группа №4382428</td>\n",
       "      <td>DRAFT</td>\n",
       "      <td>TEXT_AD_GROUP</td>\n",
       "    </tr>\n",
       "    <tr>\n",
       "      <th>13</th>\n",
       "      <td>4382429</td>\n",
       "      <td>Группа №4382429</td>\n",
       "      <td>DRAFT</td>\n",
       "      <td>TEXT_AD_GROUP</td>\n",
       "    </tr>\n",
       "    <tr>\n",
       "      <th>14</th>\n",
       "      <td>4382430</td>\n",
       "      <td>Группа №4382430</td>\n",
       "      <td>DRAFT</td>\n",
       "      <td>TEXT_AD_GROUP</td>\n",
       "    </tr>\n",
       "  </tbody>\n",
       "</table>\n",
       "</div>"
      ],
      "text/plain": [
       "         Id             Name    Status           Type\n",
       "0   4382416  Группа №4382416  ACCEPTED  TEXT_AD_GROUP\n",
       "1   4382417  Группа №4382417  ACCEPTED  TEXT_AD_GROUP\n",
       "2   4382418  Группа №4382418  ACCEPTED  TEXT_AD_GROUP\n",
       "3   4382419  Группа №4382419  ACCEPTED  TEXT_AD_GROUP\n",
       "4   4382420  Группа №4382420  ACCEPTED  TEXT_AD_GROUP\n",
       "5   4382421  Группа №4382421     DRAFT  TEXT_AD_GROUP\n",
       "6   4382422  Группа №4382422     DRAFT  TEXT_AD_GROUP\n",
       "7   4382423  Группа №4382423     DRAFT  TEXT_AD_GROUP\n",
       "8   4382424  Группа №4382424     DRAFT  TEXT_AD_GROUP\n",
       "9   4382425  Группа №4382425     DRAFT  TEXT_AD_GROUP\n",
       "10  4382426  Группа №4382426     DRAFT  TEXT_AD_GROUP\n",
       "11  4382427  Группа №4382427     DRAFT  TEXT_AD_GROUP\n",
       "12  4382428  Группа №4382428     DRAFT  TEXT_AD_GROUP\n",
       "13  4382429  Группа №4382429     DRAFT  TEXT_AD_GROUP\n",
       "14  4382430  Группа №4382430     DRAFT  TEXT_AD_GROUP"
      ]
     },
     "execution_count": 11,
     "metadata": {},
     "output_type": "execute_result"
    }
   ],
   "source": [
    "pd.DataFrame(response.json()['result']['AdGroups'])"
   ]
  },
  {
   "cell_type": "code",
   "execution_count": null,
   "id": "ae122282",
   "metadata": {},
   "outputs": [],
   "source": []
  },
  {
   "cell_type": "code",
   "execution_count": 12,
   "id": "7d404e47",
   "metadata": {},
   "outputs": [
    {
     "data": {
      "text/plain": [
       "[4382416,\n",
       " 4382417,\n",
       " 4382418,\n",
       " 4382419,\n",
       " 4382420,\n",
       " 4382421,\n",
       " 4382422,\n",
       " 4382423,\n",
       " 4382424,\n",
       " 4382425,\n",
       " 4382426,\n",
       " 4382427,\n",
       " 4382428,\n",
       " 4382429,\n",
       " 4382430]"
      ]
     },
     "execution_count": 12,
     "metadata": {},
     "output_type": "execute_result"
    }
   ],
   "source": [
    "groups = [aa['Id'] for aa in response.json()['result']['AdGroups']]\n",
    "groups"
   ]
  },
  {
   "cell_type": "code",
   "execution_count": 13,
   "id": "fd848d03",
   "metadata": {},
   "outputs": [
    {
     "data": {
      "text/plain": [
       "200"
      ]
     },
     "execution_count": 13,
     "metadata": {},
     "output_type": "execute_result"
    }
   ],
   "source": [
    "method = 'ads'\n",
    "body = {\"method\": \"get\",\n",
    "        \"params\": {\"SelectionCriteria\": {\"AdGroupIds\": groups},\n",
    "                   \"FieldNames\": [\"Id\", \"State\", \"Status\", \"Type\"]\n",
    "                  }\n",
    "       }\n",
    "response = requests.post(sandbox_url+method, headers=head, data=json.dumps(body))\n",
    "response.status_code"
   ]
  },
  {
   "cell_type": "code",
   "execution_count": 14,
   "id": "77c6f456",
   "metadata": {},
   "outputs": [
    {
     "data": {
      "text/plain": [
       "{'result': {'Ads': [{'Id': 3760395,\n",
       "    'Status': 'ACCEPTED',\n",
       "    'State': 'ON',\n",
       "    'Type': 'TEXT_AD'},\n",
       "   {'Id': 3760396, 'Status': 'ACCEPTED', 'State': 'ON', 'Type': 'TEXT_AD'},\n",
       "   {'Id': 3760397, 'Status': 'ACCEPTED', 'State': 'ON', 'Type': 'TEXT_AD'},\n",
       "   {'Id': 3760398, 'Status': 'ACCEPTED', 'State': 'ON', 'Type': 'TEXT_AD'},\n",
       "   {'Id': 3760399, 'Status': 'ACCEPTED', 'State': 'ON', 'Type': 'TEXT_AD'},\n",
       "   {'Id': 3760400, 'Status': 'DRAFT', 'State': 'OFF', 'Type': 'TEXT_AD'},\n",
       "   {'Id': 3760401, 'Status': 'DRAFT', 'State': 'OFF', 'Type': 'TEXT_AD'},\n",
       "   {'Id': 3760402, 'Status': 'DRAFT', 'State': 'OFF', 'Type': 'TEXT_AD'},\n",
       "   {'Id': 3760403, 'Status': 'DRAFT', 'State': 'OFF', 'Type': 'TEXT_AD'},\n",
       "   {'Id': 3760404, 'Status': 'DRAFT', 'State': 'OFF', 'Type': 'TEXT_AD'},\n",
       "   {'Id': 3760405, 'Status': 'DRAFT', 'State': 'OFF', 'Type': 'TEXT_AD'},\n",
       "   {'Id': 3760406, 'Status': 'DRAFT', 'State': 'OFF', 'Type': 'TEXT_AD'},\n",
       "   {'Id': 3760407, 'Status': 'DRAFT', 'State': 'OFF', 'Type': 'TEXT_AD'},\n",
       "   {'Id': 3760408, 'Status': 'DRAFT', 'State': 'OFF', 'Type': 'TEXT_AD'},\n",
       "   {'Id': 3760409, 'Status': 'DRAFT', 'State': 'OFF', 'Type': 'TEXT_AD'}]}}"
      ]
     },
     "execution_count": 14,
     "metadata": {},
     "output_type": "execute_result"
    }
   ],
   "source": [
    "response.json()"
   ]
  },
  {
   "cell_type": "code",
   "execution_count": 15,
   "id": "4885fde8",
   "metadata": {},
   "outputs": [
    {
     "data": {
      "text/html": [
       "<div>\n",
       "<style scoped>\n",
       "    .dataframe tbody tr th:only-of-type {\n",
       "        vertical-align: middle;\n",
       "    }\n",
       "\n",
       "    .dataframe tbody tr th {\n",
       "        vertical-align: top;\n",
       "    }\n",
       "\n",
       "    .dataframe thead th {\n",
       "        text-align: right;\n",
       "    }\n",
       "</style>\n",
       "<table border=\"1\" class=\"dataframe\">\n",
       "  <thead>\n",
       "    <tr style=\"text-align: right;\">\n",
       "      <th></th>\n",
       "      <th>Id</th>\n",
       "      <th>Status</th>\n",
       "      <th>State</th>\n",
       "      <th>Type</th>\n",
       "    </tr>\n",
       "  </thead>\n",
       "  <tbody>\n",
       "    <tr>\n",
       "      <th>0</th>\n",
       "      <td>3760395</td>\n",
       "      <td>ACCEPTED</td>\n",
       "      <td>ON</td>\n",
       "      <td>TEXT_AD</td>\n",
       "    </tr>\n",
       "    <tr>\n",
       "      <th>1</th>\n",
       "      <td>3760396</td>\n",
       "      <td>ACCEPTED</td>\n",
       "      <td>ON</td>\n",
       "      <td>TEXT_AD</td>\n",
       "    </tr>\n",
       "    <tr>\n",
       "      <th>2</th>\n",
       "      <td>3760397</td>\n",
       "      <td>ACCEPTED</td>\n",
       "      <td>ON</td>\n",
       "      <td>TEXT_AD</td>\n",
       "    </tr>\n",
       "    <tr>\n",
       "      <th>3</th>\n",
       "      <td>3760398</td>\n",
       "      <td>ACCEPTED</td>\n",
       "      <td>ON</td>\n",
       "      <td>TEXT_AD</td>\n",
       "    </tr>\n",
       "    <tr>\n",
       "      <th>4</th>\n",
       "      <td>3760399</td>\n",
       "      <td>ACCEPTED</td>\n",
       "      <td>ON</td>\n",
       "      <td>TEXT_AD</td>\n",
       "    </tr>\n",
       "    <tr>\n",
       "      <th>5</th>\n",
       "      <td>3760400</td>\n",
       "      <td>DRAFT</td>\n",
       "      <td>OFF</td>\n",
       "      <td>TEXT_AD</td>\n",
       "    </tr>\n",
       "    <tr>\n",
       "      <th>6</th>\n",
       "      <td>3760401</td>\n",
       "      <td>DRAFT</td>\n",
       "      <td>OFF</td>\n",
       "      <td>TEXT_AD</td>\n",
       "    </tr>\n",
       "    <tr>\n",
       "      <th>7</th>\n",
       "      <td>3760402</td>\n",
       "      <td>DRAFT</td>\n",
       "      <td>OFF</td>\n",
       "      <td>TEXT_AD</td>\n",
       "    </tr>\n",
       "    <tr>\n",
       "      <th>8</th>\n",
       "      <td>3760403</td>\n",
       "      <td>DRAFT</td>\n",
       "      <td>OFF</td>\n",
       "      <td>TEXT_AD</td>\n",
       "    </tr>\n",
       "    <tr>\n",
       "      <th>9</th>\n",
       "      <td>3760404</td>\n",
       "      <td>DRAFT</td>\n",
       "      <td>OFF</td>\n",
       "      <td>TEXT_AD</td>\n",
       "    </tr>\n",
       "    <tr>\n",
       "      <th>10</th>\n",
       "      <td>3760405</td>\n",
       "      <td>DRAFT</td>\n",
       "      <td>OFF</td>\n",
       "      <td>TEXT_AD</td>\n",
       "    </tr>\n",
       "    <tr>\n",
       "      <th>11</th>\n",
       "      <td>3760406</td>\n",
       "      <td>DRAFT</td>\n",
       "      <td>OFF</td>\n",
       "      <td>TEXT_AD</td>\n",
       "    </tr>\n",
       "    <tr>\n",
       "      <th>12</th>\n",
       "      <td>3760407</td>\n",
       "      <td>DRAFT</td>\n",
       "      <td>OFF</td>\n",
       "      <td>TEXT_AD</td>\n",
       "    </tr>\n",
       "    <tr>\n",
       "      <th>13</th>\n",
       "      <td>3760408</td>\n",
       "      <td>DRAFT</td>\n",
       "      <td>OFF</td>\n",
       "      <td>TEXT_AD</td>\n",
       "    </tr>\n",
       "    <tr>\n",
       "      <th>14</th>\n",
       "      <td>3760409</td>\n",
       "      <td>DRAFT</td>\n",
       "      <td>OFF</td>\n",
       "      <td>TEXT_AD</td>\n",
       "    </tr>\n",
       "  </tbody>\n",
       "</table>\n",
       "</div>"
      ],
      "text/plain": [
       "         Id    Status State     Type\n",
       "0   3760395  ACCEPTED    ON  TEXT_AD\n",
       "1   3760396  ACCEPTED    ON  TEXT_AD\n",
       "2   3760397  ACCEPTED    ON  TEXT_AD\n",
       "3   3760398  ACCEPTED    ON  TEXT_AD\n",
       "4   3760399  ACCEPTED    ON  TEXT_AD\n",
       "5   3760400     DRAFT   OFF  TEXT_AD\n",
       "6   3760401     DRAFT   OFF  TEXT_AD\n",
       "7   3760402     DRAFT   OFF  TEXT_AD\n",
       "8   3760403     DRAFT   OFF  TEXT_AD\n",
       "9   3760404     DRAFT   OFF  TEXT_AD\n",
       "10  3760405     DRAFT   OFF  TEXT_AD\n",
       "11  3760406     DRAFT   OFF  TEXT_AD\n",
       "12  3760407     DRAFT   OFF  TEXT_AD\n",
       "13  3760408     DRAFT   OFF  TEXT_AD\n",
       "14  3760409     DRAFT   OFF  TEXT_AD"
      ]
     },
     "execution_count": 15,
     "metadata": {},
     "output_type": "execute_result"
    }
   ],
   "source": [
    "pd.DataFrame(response.json()['result']['Ads'])"
   ]
  },
  {
   "cell_type": "code",
   "execution_count": null,
   "id": "9bdd62e2",
   "metadata": {},
   "outputs": [],
   "source": []
  },
  {
   "cell_type": "code",
   "execution_count": 16,
   "id": "b1dbb7c6",
   "metadata": {},
   "outputs": [
    {
     "data": {
      "text/plain": [
       "[3760395,\n",
       " 3760396,\n",
       " 3760397,\n",
       " 3760398,\n",
       " 3760399,\n",
       " 3760400,\n",
       " 3760401,\n",
       " 3760402,\n",
       " 3760403,\n",
       " 3760404,\n",
       " 3760405,\n",
       " 3760406,\n",
       " 3760407,\n",
       " 3760408,\n",
       " 3760409]"
      ]
     },
     "execution_count": 16,
     "metadata": {},
     "output_type": "execute_result"
    }
   ],
   "source": [
    "ads = [aa['Id'] for aa in response.json()['result']['Ads']]\n",
    "ads"
   ]
  },
  {
   "cell_type": "code",
   "execution_count": 17,
   "id": "dc5ab2dd",
   "metadata": {},
   "outputs": [
    {
     "data": {
      "text/plain": [
       "200"
      ]
     },
     "execution_count": 17,
     "metadata": {},
     "output_type": "execute_result"
    }
   ],
   "source": [
    "method = 'keywords'\n",
    "body = {\"method\": \"get\",\n",
    "        \"params\": {\"SelectionCriteria\": {\"AdGroupIds\": ads},\n",
    "                   \"FieldNames\": [\"Id\", \"Keyword\", \"Bid\", \"State\", \"Status\"]\n",
    "                  }\n",
    "       }\n",
    "response = requests.post(sandbox_url+method, headers=head, data=json.dumps(body))\n",
    "response.status_code"
   ]
  },
  {
   "cell_type": "code",
   "execution_count": 18,
   "id": "df13f94a",
   "metadata": {},
   "outputs": [
    {
     "data": {
      "text/plain": [
       "{'result': {}}"
      ]
     },
     "execution_count": 18,
     "metadata": {},
     "output_type": "execute_result"
    }
   ],
   "source": [
    "response.json()"
   ]
  },
  {
   "cell_type": "code",
   "execution_count": null,
   "id": "3ddad741",
   "metadata": {},
   "outputs": [],
   "source": []
  },
  {
   "cell_type": "code",
   "execution_count": 19,
   "id": "98195036",
   "metadata": {},
   "outputs": [
    {
     "data": {
      "text/plain": [
       "200"
      ]
     },
     "execution_count": 19,
     "metadata": {},
     "output_type": "execute_result"
    }
   ],
   "source": [
    "camp = campaigns[0]\n",
    "method = 'campaigns'\n",
    "body = {\"method\": \"update\",\n",
    "        \"params\": {\"Campaigns\": [{\"Id\": camp, \n",
    "                                  \"TextCampaign\": {\"BiddingStrategy\": \n",
    "                                                   {\"Network\": {\"BiddingStrategyType\": \"MAXIMUM_COVERAGE\"}}}\n",
    "                                 }]\n",
    "                  }\n",
    "       }\n",
    "response = requests.post(sandbox_url+method, headers=head, data=json.dumps(body))\n",
    "response.status_code"
   ]
  },
  {
   "cell_type": "code",
   "execution_count": 20,
   "id": "7b22447e",
   "metadata": {},
   "outputs": [
    {
     "data": {
      "text/plain": [
       "{'result': {'UpdateResults': [{'Id': 440401}]}}"
      ]
     },
     "execution_count": 20,
     "metadata": {},
     "output_type": "execute_result"
    }
   ],
   "source": [
    "response.json()"
   ]
  },
  {
   "cell_type": "code",
   "execution_count": null,
   "id": "0eb2196e",
   "metadata": {},
   "outputs": [],
   "source": []
  },
  {
   "cell_type": "code",
   "execution_count": 21,
   "id": "581cb96f",
   "metadata": {},
   "outputs": [
    {
     "data": {
      "text/plain": [
       "200"
      ]
     },
     "execution_count": 21,
     "metadata": {},
     "output_type": "execute_result"
    }
   ],
   "source": [
    "camp = campaigns[0]\n",
    "method = 'adgroups'\n",
    "body = {\"method\": \"add\", \n",
    "        \"params\": {\"AdGroups\": [{\"Name\": \"Новая группа\",\n",
    "                                 \"CampaignId\": camp,\n",
    "                                 \"RegionIds\": [213]}]\n",
    "                  }\n",
    "       }\n",
    "response = requests.post(sandbox_url+method, headers=head, data=json.dumps(body))\n",
    "response.status_code"
   ]
  },
  {
   "cell_type": "code",
   "execution_count": 22,
   "id": "1e891a73",
   "metadata": {},
   "outputs": [
    {
     "data": {
      "text/plain": [
       "{'result': {'AddResults': [{'Id': 4382467}]}}"
      ]
     },
     "execution_count": 22,
     "metadata": {},
     "output_type": "execute_result"
    }
   ],
   "source": [
    "response.json()"
   ]
  },
  {
   "cell_type": "code",
   "execution_count": 23,
   "id": "1176e9e3",
   "metadata": {},
   "outputs": [
    {
     "data": {
      "text/plain": [
       "200"
      ]
     },
     "execution_count": 23,
     "metadata": {},
     "output_type": "execute_result"
    }
   ],
   "source": [
    "group = groups[0]\n",
    "method = 'ads'\n",
    "body = {\"method\": \"add\",\n",
    "        \"params\": {\"Ads\": [{\"AdGroupId\": group,\n",
    "                            \"TextAd\": {\"Title\": \"Заголовок объявления\",\n",
    "                                       \"Text\": \"Текст объявления\",\n",
    "                                       \"Mobile\": \"NO\",\n",
    "                                       \"Href\": \"http://example.com\"}}]\n",
    "                  }\n",
    "       }\n",
    "response = requests.post(sandbox_url+method, headers=head, data=json.dumps(body))\n",
    "response.status_code"
   ]
  },
  {
   "cell_type": "code",
   "execution_count": 24,
   "id": "50155d23",
   "metadata": {},
   "outputs": [
    {
     "data": {
      "text/plain": [
       "{'result': {'AddResults': [{'Id': 3760424}]}}"
      ]
     },
     "execution_count": 24,
     "metadata": {},
     "output_type": "execute_result"
    }
   ],
   "source": [
    "response.json()"
   ]
  },
  {
   "cell_type": "code",
   "execution_count": null,
   "id": "00ff8bcb",
   "metadata": {},
   "outputs": [],
   "source": []
  },
  {
   "cell_type": "code",
   "execution_count": 25,
   "id": "305d74f0",
   "metadata": {},
   "outputs": [
    {
     "data": {
      "text/plain": [
       "200"
      ]
     },
     "execution_count": 25,
     "metadata": {},
     "output_type": "execute_result"
    }
   ],
   "source": [
    "group = groups[0]\n",
    "method = 'keywords'\n",
    "body = {\"method\": \"add\",\n",
    "        \"params\": {\"Keywords\": [{\"Keyword\": \"Новая фраза\",\n",
    "                                 \"AdGroupId\": group,\n",
    "                                 \"Bid\": 300000}]\n",
    "                  }\n",
    "       }\n",
    "response = requests.post(sandbox_url+method, headers=head, data=json.dumps(body))\n",
    "response.status_code"
   ]
  },
  {
   "cell_type": "code",
   "execution_count": 26,
   "id": "a060762c",
   "metadata": {},
   "outputs": [
    {
     "data": {
      "text/plain": [
       "{'result': {'AddResults': [{'Id': 11612273}]}}"
      ]
     },
     "execution_count": 26,
     "metadata": {},
     "output_type": "execute_result"
    }
   ],
   "source": [
    "response.json()"
   ]
  },
  {
   "cell_type": "code",
   "execution_count": null,
   "id": "6a365f6e",
   "metadata": {},
   "outputs": [],
   "source": []
  },
  {
   "cell_type": "code",
   "execution_count": 32,
   "id": "e0237bf6",
   "metadata": {},
   "outputs": [
    {
     "data": {
      "text/plain": [
       "11612273"
      ]
     },
     "execution_count": 32,
     "metadata": {},
     "output_type": "execute_result"
    }
   ],
   "source": [
    "phrase = response.json()['result']['AddResults'][0]['Id']\n",
    "phrase"
   ]
  },
  {
   "cell_type": "code",
   "execution_count": 33,
   "id": "2677f75b",
   "metadata": {},
   "outputs": [
    {
     "data": {
      "text/plain": [
       "200"
      ]
     },
     "execution_count": 33,
     "metadata": {},
     "output_type": "execute_result"
    }
   ],
   "source": [
    "method = 'keywordbids'\n",
    "body = {\"method\": \"set\",\n",
    "        \"params\": {\"KeywordBids\": [{\"KeywordId\": phrase,\n",
    "                                    \"SearchBid\": 400000}]\n",
    "                  }\n",
    "       }\n",
    "response = requests.post(sandbox_url+method, headers=head, data=json.dumps(body))\n",
    "response.status_code"
   ]
  },
  {
   "cell_type": "code",
   "execution_count": 34,
   "id": "b549d122",
   "metadata": {},
   "outputs": [
    {
     "data": {
      "text/plain": [
       "{'result': {'SetResults': [{'KeywordId': 11612273}]}}"
      ]
     },
     "execution_count": 34,
     "metadata": {},
     "output_type": "execute_result"
    }
   ],
   "source": [
    "response.json()"
   ]
  },
  {
   "cell_type": "code",
   "execution_count": null,
   "id": "b586635c",
   "metadata": {},
   "outputs": [],
   "source": []
  }
 ],
 "metadata": {
  "kernelspec": {
   "display_name": "Python 3 (ipykernel)",
   "language": "python",
   "name": "python3"
  },
  "language_info": {
   "codemirror_mode": {
    "name": "ipython",
    "version": 3
   },
   "file_extension": ".py",
   "mimetype": "text/x-python",
   "name": "python",
   "nbconvert_exporter": "python",
   "pygments_lexer": "ipython3",
   "version": "3.8.11"
  }
 },
 "nbformat": 4,
 "nbformat_minor": 5
}
