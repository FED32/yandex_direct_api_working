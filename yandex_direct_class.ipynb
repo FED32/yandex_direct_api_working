{
 "cells": [
  {
   "cell_type": "markdown",
   "id": "b716c36f",
   "metadata": {},
   "source": [
    "https://yandex.ru/dev/direct/doc/dg/concepts/overview.html\n",
    "\n",
    "https://yandex.ru/dev/direct/doc/dg-v4/concepts/About.html\n",
    "\n",
    "https://yandex.ru/dev/id/doc/dg/oauth/concepts/about.html\n",
    "\n",
    "https://yandex.ru/dev/id/doc/dg/index.html\n",
    "\n",
    "https://docs.python.org/3/library/json.html"
   ]
  },
  {
   "cell_type": "code",
   "execution_count": 1,
   "id": "c49d55b5",
   "metadata": {},
   "outputs": [],
   "source": [
    "# -*- coding: utf-8 -*-\n",
    "import requests\n",
    "import json\n",
    "import pandas as pd\n",
    "\n",
    "from flask import Flask, request, jsonify, redirect\n",
    "from urllib.parse import urlencode"
   ]
  },
  {
   "cell_type": "code",
   "execution_count": 2,
   "id": "8d4fb7df",
   "metadata": {},
   "outputs": [],
   "source": [
    "# параметры приложения\n",
    "client_id1 = '2ea405b379c7474e8bf9e1a3bf31ee2a'\n",
    "client_secret1 = '86dcb9f2c8664399b553bc98e44da1df'\n",
    "\n",
    "# я.директ учетная запись 1\n",
    "login1 = 'sfedyusnin@yandex.ru'\n",
    "token1 = 'y0_AQAAAABihNGYAAhQ1wAAAADLKvrhX8L69sCOQii3e7pjpQ0tsAU4Ha4'\n",
    "\n",
    "# я.директ учетная запись 2\n",
    "login2 = 'test150822-1@yandex.ru' \n",
    "token2 = 'y0_AQAAAABj2FshAAhQ1wAAAADLnEO5KjPw9q9tRUuL9DlWVNgRkdHQDEw'"
   ]
  },
  {
   "cell_type": "code",
   "execution_count": 3,
   "id": "d73a40d3",
   "metadata": {},
   "outputs": [],
   "source": [
    "class YandexDirectEcomru:\n",
    "    def __init__(self, login, token, sandbox=False):\n",
    "        self.login = login\n",
    "        self.token = token\n",
    "        urls = ['https://api.direct.yandex.ru/v4/json/',\n",
    "                'https://api.direct.yandex.ru/live/v4/json/',\n",
    "                'https://api.direct.yandex.com/json/v5/']\n",
    "        \n",
    "        sandbox_urls = ['https://api-sandbox.direct.yandex.ru/v4/json/',\n",
    "                        'https://api-sandbox.direct.yandex.ru/live/v4/json/',\n",
    "                        'https://api-sandbox.direct.yandex.com/json/v5/']\n",
    "        \n",
    "        self.head = {\"Authorization\": 'Bearer'+' '+self.token,\n",
    "                     \"Accept-Language\": \"ru\",\n",
    "                     \"Client-Login\": self.login,\n",
    "                     \"Content-Type\": \"application/json; charset=utf-8\"\n",
    "                    }\n",
    "        \n",
    "        if sandbox is True:\n",
    "            self.urls = sandbox_urls\n",
    "        else:\n",
    "            self.urls = urls\n",
    "\n",
    "    \n",
    "    def get_campaigns(self, criteries={}):\n",
    "        \"\"\"\n",
    "        Возвращает параметры кампаний, отвечающих заданным критериям.\n",
    "        Структура описания критериев:\n",
    "        https://yandex.ru/dev/direct/doc/ref-v5/campaigns/get.html#input__CampaignsSelectionCriteria\n",
    "        \"\"\"\n",
    "        method = 'campaigns'\n",
    "        body = {\"method\": \"get\",\n",
    "                \"params\": {\"SelectionCriteria\": criteries,\n",
    "                           \"FieldNames\": [\"Id\", \"Name\"]\n",
    "                          }\n",
    "               }\n",
    "        \n",
    "        response = requests.post(self.urls[2]+method, headers=self.head, data=json.dumps(body))\n",
    "        if response.status_code == 200:\n",
    "            return response.json()\n",
    "        else:\n",
    "            return response.text\n",
    "\n",
    "    def create_new_wordstat_report(self, phrases, regions=[], lim=10):\n",
    "        \"\"\"\n",
    "        Запускает на сервере формирование отчета о статистике поисковых запросов,\n",
    "        возвращает идентификатор будущего отчета.\n",
    "        \"\"\"\n",
    "        body = {\"method\": \"CreateNewWordstatReport\",\n",
    "                \"param\": {\"Phrases\": phrases,\n",
    "                          \"GeoID\": regions\n",
    "                         },\n",
    "#                 \"locale\": \"ru\",\n",
    "                \"token\": self.token\n",
    "               }\n",
    "        \n",
    "        if len(phrases) <= lim:\n",
    "            response = requests.post(self.urls[1], data=json.dumps(body))\n",
    "            if response.status_code == 200:\n",
    "                return response.json()\n",
    "            else:\n",
    "                return response.text\n",
    "        else:\n",
    "            print('Превышен лимит фраз в одном запросе')\n",
    "\n",
    "    def get_wordstat_report_list(self):\n",
    "        \"\"\"\n",
    "        Возвращает список сформированных и формируемых отчетов о статистике поисковых запросов\n",
    "        \"\"\"\n",
    "        body = {\"method\": \"GetWordstatReportList\",\n",
    "                \"token\": self.token}\n",
    "        response = requests.post(self.urls[1], data=json.dumps(body))\n",
    "        if response.status_code == 200:\n",
    "            return response.json()\n",
    "        else:\n",
    "            return response.text\n",
    "    \n",
    "    def get_wordstat_report(self, report_id):\n",
    "        \"\"\"\n",
    "        Возвращает отчет о статистике поисковых запросов\n",
    "        \"\"\"\n",
    "        body = {\"method\": \"GetWordstatReport\",\n",
    "                \"param\": int(report_id),\n",
    "                \"token\": self.token\n",
    "               }\n",
    "        response = requests.post(self.urls[1], data=json.dumps(body))\n",
    "        if response.status_code == 200:\n",
    "            return response.json()\n",
    "        else:\n",
    "            return response.text\n",
    "        \n",
    "    def delete_wordstat_report(self, report_id):\n",
    "        \"\"\"\n",
    "        Удаляет отчет о статистике поисковых запросов\n",
    "        \"\"\"\n",
    "        body = {\"method\": \"DeleteWordstatReport\",\n",
    "                \"param\": int(report_id),\n",
    "                \"token\": self.token\n",
    "               }\n",
    "        response = requests.post(self.urls[1], data=json.dumps(body))\n",
    "        if response.status_code == 200:\n",
    "            return response.json()\n",
    "        else:\n",
    "            return response.text\n",
    "        \n",
    "    def create_new_forecast(self, phrases, regions=[], currency='RUB', auc_bids='No'):\n",
    "        \"\"\"\n",
    "        Запускает на сервере формирование прогноза показов, кликов и затрат.\n",
    "        Возможные значения currency: RUB, CHF, EUR, KZT, TRY, UAH, USD, BYN.\n",
    "        \"\"\"\n",
    "        body = {\"method\": \"CreateNewForecast\",\n",
    "                \"param\": {\"Phrases\": phrases,\n",
    "                          \"Categories\": [],\n",
    "                          \"GeoID\": regions,\n",
    "                          \"Currency\": currency,\n",
    "                          \"AuctionBids\": auc_bids\n",
    "                         },\n",
    "                \"token\": self.token\n",
    "               }\n",
    "        response = requests.post(self.urls[1], data=json.dumps(body))\n",
    "        if response.status_code == 200:\n",
    "            return response.json()\n",
    "        else:\n",
    "            return response.text\n",
    "        \n",
    "    def get_forecast_list(self):\n",
    "        \"\"\"\n",
    "        Возвращает список сформированных и формируемых отчетов о прогнозируемом количестве\n",
    "        показов и кликов, затратах на кампанию\n",
    "        \"\"\"\n",
    "        body = {\"method\": \"GetForecastList\",\n",
    "                \"token\": self.token}\n",
    "        response = requests.post(self.urls[1], data=json.dumps(body))\n",
    "        if response.status_code == 200:\n",
    "            return response.json()\n",
    "        else:\n",
    "            return response.text\n",
    "        \n",
    "    def get_forecast(self, forecast_id):\n",
    "        \"\"\"\n",
    "        Возвращает сформированный прогноз показов, кликов и затрат по его идентификатору\n",
    "        \"\"\"\n",
    "        body = {\"method\": \"GetForecast\",\n",
    "                \"param\": int(forecast_id),\n",
    "                \"token\": self.token\n",
    "               }\n",
    "        response = requests.post(self.urls[1], data=json.dumps(body))\n",
    "        if response.status_code == 200:\n",
    "            return response.json()\n",
    "        else:\n",
    "            return response.text \n",
    "      \n",
    "    def delete_forecast_report(self, forecast_id):\n",
    "        \"\"\"\n",
    "        Удаляет отчет о прогнозируемом количестве показов и кликов, затратах на кампанию\n",
    "        \"\"\"\n",
    "        body = {\"method\": \"DeleteForecastReport\",\n",
    "                \"param\": int(forecast_id),\n",
    "                \"token\": self.token\n",
    "               }\n",
    "        response = requests.post(self.urls[1], data=json.dumps(body))\n",
    "        if response.status_code == 200:\n",
    "            return response.json()\n",
    "        else:\n",
    "            return response.text\n",
    "        "
   ]
  },
  {
   "cell_type": "code",
   "execution_count": 4,
   "id": "1a30b925",
   "metadata": {},
   "outputs": [],
   "source": [
    "direct = YandexDirectEcomru(login=login1, token=token1, sandbox=True)"
   ]
  },
  {
   "cell_type": "code",
   "execution_count": 6,
   "id": "93b1f728",
   "metadata": {},
   "outputs": [
    {
     "name": "stdout",
     "output_type": "stream",
     "text": [
      "\n",
      "        Возвращает параметры кампаний, отвечающих заданным критериям.\n",
      "        Структура описания критериев:\n",
      "        https://yandex.ru/dev/direct/doc/ref-v5/campaigns/get.html#input__CampaignsSelectionCriteria\n",
      "        \n"
     ]
    },
    {
     "data": {
      "text/plain": [
       "{'result': {'Campaigns': [{'Name': 'Test API Sandbox campaign 1',\n",
       "    'Id': 440401},\n",
       "   {'Name': 'Test API Sandbox campaign 2', 'Id': 440402},\n",
       "   {'Name': 'Test API Sandbox campaign 3', 'Id': 440403}]}}"
      ]
     },
     "execution_count": 6,
     "metadata": {},
     "output_type": "execute_result"
    }
   ],
   "source": [
    "print(direct.get_campaigns.__doc__)\n",
    "direct.get_campaigns()"
   ]
  },
  {
   "cell_type": "code",
   "execution_count": 7,
   "id": "43aaf504",
   "metadata": {},
   "outputs": [
    {
     "data": {
      "text/plain": [
       "{'data': 7037263}"
      ]
     },
     "execution_count": 7,
     "metadata": {},
     "output_type": "execute_result"
    }
   ],
   "source": [
    "direct.create_new_wordstat_report(phrases=['hamster'])"
   ]
  },
  {
   "cell_type": "code",
   "execution_count": 8,
   "id": "256f2ad7",
   "metadata": {},
   "outputs": [
    {
     "data": {
      "text/plain": [
       "{'data': [{'ReportID': 7037192, 'StatusReport': 'Done'},\n",
       "  {'ReportID': 7037196, 'StatusReport': 'Done'},\n",
       "  {'StatusReport': 'Done', 'ReportID': 7037204},\n",
       "  {'ReportID': 7037208, 'StatusReport': 'Done'},\n",
       "  {'ReportID': 7037227, 'StatusReport': 'Done'},\n",
       "  {'ReportID': 7037230, 'StatusReport': 'Done'},\n",
       "  {'StatusReport': 'Done', 'ReportID': 7037233},\n",
       "  {'ReportID': 7037236, 'StatusReport': 'Done'},\n",
       "  {'StatusReport': 'Done', 'ReportID': 7037237},\n",
       "  {'StatusReport': 'Done', 'ReportID': 7037256},\n",
       "  {'ReportID': 7037263, 'StatusReport': 'Done'}]}"
      ]
     },
     "execution_count": 8,
     "metadata": {},
     "output_type": "execute_result"
    }
   ],
   "source": [
    "direct.get_wordstat_report_list()"
   ]
  },
  {
   "cell_type": "code",
   "execution_count": 9,
   "id": "7479a8be",
   "metadata": {},
   "outputs": [
    {
     "data": {
      "text/plain": [
       "{'data': [{'Phrase': 'hamster',\n",
       "   'SearchedWith': [{'Shows': 80728, 'Phrase': 'hamster'},\n",
       "    {'Phrase': \"hamster's\", 'Shows': 80726},\n",
       "    {'Shows': 10122, 'Phrase': 'hamster porno'},\n",
       "    {'Phrase': 'x hamster', 'Shows': 9754},\n",
       "    {'Shows': 9754, 'Phrase': \"x hamster's\"},\n",
       "    {'Shows': 8533, 'Phrase': 'hamster porn'},\n",
       "    {'Phrase': 'hamster порно', 'Shows': 4892},\n",
       "    {'Phrase': 'hamster xxx', 'Shows': 3347},\n",
       "    {'Phrase': \"xxx hamster's\", 'Shows': 3347},\n",
       "    {'Shows': 2557, 'Phrase': 'hamster com'},\n",
       "    {'Shows': 2557, 'Phrase': \"hamster's com\"},\n",
       "    {'Phrase': 'x hamster porno', 'Shows': 2510},\n",
       "    {'Phrase': 'hamster türk', 'Shows': 2386},\n",
       "    {'Phrase': 'hamster porno türk', 'Shows': 2357},\n",
       "    {'Phrase': 'x hamster türk', 'Shows': 2356},\n",
       "    {'Phrase': 'x hamster türk porno', 'Shows': 2344},\n",
       "    {'Phrase': 'hamster live', 'Shows': 2177},\n",
       "    {'Shows': 2015, 'Phrase': 'hamster sex'},\n",
       "    {'Shows': 1947, 'Phrase': 'ru hamster'},\n",
       "    {'Shows': 1873, 'Phrase': 'hamster video'},\n",
       "    {'Phrase': \"hamster's video\", 'Shows': 1873},\n",
       "    {'Phrase': 'brazzers hamster', 'Shows': 1625},\n",
       "    {'Shows': 1501, 'Phrase': 'brazzers x hamster'},\n",
       "    {'Phrase': 'hamster 3d', 'Shows': 1125},\n",
       "    {'Phrase': 'hamster dance', 'Shows': 1072},\n",
       "    {'Shows': 1072, 'Phrase': 'dancing hamster'},\n",
       "    {'Phrase': 'hamster free', 'Shows': 858},\n",
       "    {'Phrase': 'hamster видео', 'Shows': 814},\n",
       "    {'Shows': 810, 'Phrase': 'gay hamster'},\n",
       "    {'Shows': 648, 'Phrase': 'x hamster porn'},\n",
       "    {'Shows': 640, 'Phrase': 'сайт hamster'},\n",
       "    {'Shows': 615, 'Phrase': 'xnxx hamster'},\n",
       "    {'Shows': 606, 'Phrase': 'de hamster'},\n",
       "    {'Shows': 534, 'Phrase': 'hamster бесплатное'},\n",
       "    {'Phrase': 'hamster bokep', 'Shows': 507},\n",
       "    {'Phrase': 'hamster online', 'Shows': 491},\n",
       "    {'Shows': 474, 'Phrase': 'hamster song'},\n",
       "    {'Phrase': 'hamster indo', 'Shows': 463},\n",
       "    {'Phrase': 'hamster mature', 'Shows': 451},\n",
       "    {'Phrase': 'hamster desi', 'Shows': 446},\n",
       "    {'Shows': 445, 'Phrase': 'hamster hd'},\n",
       "    {'Shows': 443, 'Phrase': 'hamster archiver'},\n",
       "    {'Phrase': 'смотреть hamster', 'Shows': 435},\n",
       "    {'Shows': 418, 'Phrase': 'х hamster'},\n",
       "    {'Shows': 415, 'Phrase': 'granny hamster'},\n",
       "    {'Shows': 411, 'Phrase': 'hamster перевод'},\n",
       "    {'Shows': 394, 'Phrase': 'hamster zip'},\n",
       "    {'Shows': 391, 'Phrase': 'zoo hamster'},\n",
       "    {'Phrase': 'bbw hamster', 'Shows': 382},\n",
       "    {'Shows': 371, 'Phrase': 'hamster tube'},\n",
       "    {'Shows': 366, 'Phrase': 'northern grand duke hamster'},\n",
       "    {'Phrase': 'big hamster', 'Shows': 355},\n",
       "    {'Phrase': 'hamster +of darkness', 'Shows': 344},\n",
       "    {'Shows': 344, 'Phrase': 'манга hamster'},\n",
       "    {'Phrase': 'hamster zip archiver', 'Shows': 343},\n",
       "    {'Phrase': 'скачать +с hamster', 'Shows': 339},\n",
       "    {'Phrase': 'hamster песня', 'Shows': 336},\n",
       "    {'Shows': 333, 'Phrase': 'hamster life'},\n",
       "    {'Phrase': 'секс hamster', 'Shows': 330},\n",
       "    {'Shows': 329, 'Phrase': 'beauty hamster'},\n",
       "    {'Shows': 328, 'Phrase': 'dancing hamster song'},\n",
       "    {'Phrase': 'hamster dance song', 'Shows': 328},\n",
       "    {'Shows': 328, 'Phrase': 'скачать hamster бесплатно'},\n",
       "    {'Phrase': 'hamster dance скачать', 'Shows': 318},\n",
       "    {'Phrase': 'hamster pdf', 'Shows': 316},\n",
       "    {'Phrase': 'hamster игра', 'Shows': 314},\n",
       "    {'Phrase': 'hamster stew', 'Shows': 308},\n",
       "    {'Phrase': 'hairy hamster', 'Shows': 307},\n",
       "    {'Phrase': 'хомяки hamster', 'Shows': 304},\n",
       "    {'Shows': 295, 'Phrase': 'hamster +на русском'},\n",
       "    {'Phrase': 'скачать 3d hamster', 'Shows': 293},\n",
       "    {'Phrase': 'xx hamster', 'Shows': 281},\n",
       "    {'Phrase': 'hamsters movie', 'Shows': 279},\n",
       "    {'Phrase': 'hamster maze', 'Shows': 276},\n",
       "    {'Phrase': 'hamster anal', 'Shows': 276},\n",
       "    {'Shows': 275, 'Phrase': 'xlive hamster'},\n",
       "    {'Shows': 274, 'Phrase': 'hamster porno video'},\n",
       "    {'Phrase': 'hamster indonesia', 'Shows': 273},\n",
       "    {'Shows': 271, 'Phrase': 'hot hamster'},\n",
       "    {'Shows': 269, 'Phrase': 'm hamster'},\n",
       "    {'Phrase': 'hamster 19', 'Shows': 268},\n",
       "    {'Phrase': 'hamster 18', 'Shows': 267},\n",
       "    {'Phrase': \"hamster's free porn\", 'Shows': 267},\n",
       "    {'Shows': 267, 'Phrase': 'hamster free porn'},\n",
       "    {'Phrase': 'd hamster', 'Shows': 263},\n",
       "    {'Shows': 263, 'Phrase': 'x hamster live'},\n",
       "    {'Phrase': 'ru hamster desi', 'Shows': 261},\n",
       "    {'Shows': 259, 'Phrase': 'hamster moms'},\n",
       "    {'Phrase': 'hamster seks', 'Shows': 252},\n",
       "    {'Phrase': 'hamster reader', 'Shows': 250},\n",
       "    {'Shows': 249, 'Phrase': 'old hamster'},\n",
       "    {'Phrase': 'hamster am', 'Shows': 247},\n",
       "    {'Shows': 246, 'Phrase': '+the northern dukes hamster'},\n",
       "    {'Shows': 246, 'Phrase': 'hamster video xxx'},\n",
       "    {'Shows': 241, 'Phrase': 'hamster переехал'},\n",
       "    {'Phrase': 'hamster ru переехал', 'Shows': 241},\n",
       "    {'Shows': 236, 'Phrase': 'hamster stew motsu aki'},\n",
       "    {'Shows': 235, 'Phrase': 'hamster pdf reader'},\n",
       "    {'Shows': 234, 'Phrase': 'japan hamster'},\n",
       "    {'Shows': 231, 'Phrase': 'hamsters gaming'},\n",
       "    {'Phrase': 'hamster game', 'Shows': 231},\n",
       "    {'Phrase': 'ресторан hamster', 'Shows': 230},\n",
       "    {'Phrase': 'hamster film', 'Shows': 229},\n",
       "    {'Phrase': 'russian hamsters', 'Shows': 227},\n",
       "    {'Shows': 227, 'Phrase': 'hamster sex video'},\n",
       "    {'Phrase': 'hamster порно видео', 'Shows': 225},\n",
       "    {'Phrase': 'chicken hare +and +the hamster +of darkness', 'Shows': 222},\n",
       "    {'Shows': 220, 'Phrase': 'hamster bank'},\n",
       "    {'Phrase': 'hamster онлайн', 'Shows': 219},\n",
       "    {'Shows': 217, 'Phrase': 'песня hamster dance'},\n",
       "    {'Shows': 215, 'Phrase': 'www hamster'},\n",
       "    {'Phrase': '+the northern duke s hamster', 'Shows': 213},\n",
       "    {'Shows': 209, 'Phrase': 'robo hamster'},\n",
       "    {'Phrase': 'смотреть порно hamster', 'Shows': 208},\n",
       "    {'Shows': 206, 'Phrase': 'hamster взлом'},\n",
       "    {'Phrase': 'hamster girls', 'Shows': 203},\n",
       "    {'Shows': 199, 'Phrase': 'порно сайт hamster'},\n",
       "    {'Phrase': 'hamster milf', 'Shows': 198},\n",
       "    {'Shows': 197, 'Phrase': 'hamster веб'},\n",
       "    {'Shows': 194, 'Phrase': 'hamster hentai'},\n",
       "    {'Shows': 193, 'Phrase': 'hamsters купить'},\n",
       "    {'Shows': 192, 'Phrase': 'sally d angelo sur hamster'},\n",
       "    {'Phrase': 'hamsters 2', 'Shows': 191},\n",
       "    {'Shows': 189, 'Phrase': 'скачать видео +с hamster'},\n",
       "    {'Phrase': 'hamster веб камеры', 'Shows': 188},\n",
       "    {'Shows': 187, 'Phrase': 'hamster japanese'},\n",
       "    {'Phrase': 'hamster live online', 'Shows': 184},\n",
       "    {'Phrase': 'hamster cam', 'Shows': 184},\n",
       "    {'Shows': 184, 'Phrase': \"hamster's cams\"},\n",
       "    {'Phrase': 'hamster зрел', 'Shows': 183},\n",
       "    {'Shows': 179, 'Phrase': 'hamster 1'},\n",
       "    {'Shows': 177, 'Phrase': 'hamster porn video'},\n",
       "    {'Shows': 176, 'Phrase': 'hamster converter'},\n",
       "    {'Shows': 175, 'Phrase': 'скачать песню hamster'},\n",
       "    {'Phrase': 'hamster free video', 'Shows': 174},\n",
       "    {'Shows': 172, 'Phrase': 'hamster торрент'},\n",
       "    {'Shows': 170, 'Phrase': 'nl hamster'},\n",
       "    {'Shows': 166, 'Phrase': 'hamster женщин'},\n",
       "    {'Phrase': 'hamster porn tube', 'Shows': 165},\n",
       "    {'Shows': 165, 'Phrase': 'de hamster com'},\n",
       "    {'Shows': 164, 'Phrase': 'hamster фото'},\n",
       "    {'Phrase': 'go hamster', 'Shows': 162},\n",
       "    {'Phrase': 'hamster free archiver', 'Shows': 161},\n",
       "    {'Shows': 161, 'Phrase': 'милфы hamster'},\n",
       "    {'Shows': 160, 'Phrase': 'hamster com porn'},\n",
       "    {'Phrase': 'hamster colmek', 'Shows': 159},\n",
       "    {'Phrase': 'shemale hamster', 'Shows': 157},\n",
       "    {'Shows': 157, 'Phrase': 'hamster gay porn'},\n",
       "    {'Shows': 157, 'Phrase': 'hamster скачать торрент'},\n",
       "    {'Phrase': 'https hamster', 'Shows': 154},\n",
       "    {'Phrase': 'hamster erotic', 'Shows': 153},\n",
       "    {'Shows': 152, 'Phrase': 'beauty hamster ru'},\n",
       "    {'Shows': 151, 'Phrase': 'hamster 3'},\n",
       "    {'Shows': 150, 'Phrase': 'hamster manga'},\n",
       "    {'Phrase': 'hamster lesbian', 'Shows': 150},\n",
       "    {'Shows': 150, 'Phrase': 'hamster me'},\n",
       "    {'Phrase': 'hamster зеркало', 'Shows': 148},\n",
       "    {'Shows': 148, 'Phrase': 'hamster эротика'},\n",
       "    {'Shows': 147, 'Phrase': 'abg hamster'},\n",
       "    {'Shows': 147, 'Phrase': 'мария тунева hamster'},\n",
       "    {'Shows': 145, 'Phrase': 'little hamster'},\n",
       "    {'Phrase': 'русское порно hamster', 'Shows': 145},\n",
       "    {'Shows': 145, 'Phrase': 'hamster tits'},\n",
       "    {'Shows': 144, 'Phrase': 'мария тунева hamster 37'},\n",
       "    {'Shows': 144, 'Phrase': 'xnxx hamster indo'},\n",
       "    {'Shows': 144, 'Phrase': 'hijab hamster'},\n",
       "    {'Shows': 142, 'Phrase': 'video bokep hamster'},\n",
       "    {'Shows': 140, 'Phrase': 'hamster pics'},\n",
       "    {'Shows': 137, 'Phrase': 'sally d angelo sur hamster x'},\n",
       "    {'Shows': 137, 'Phrase': 'hamster free zip'},\n",
       "    {'Shows': 136, 'Phrase': 'hamster bank скачать'},\n",
       "    {'Shows': 136, 'Phrase': 'порно x hamster'},\n",
       "    {'Shows': 136, 'Phrase': 'hamster vintage'},\n",
       "    {'Phrase': 'hamster клетка', 'Shows': 136},\n",
       "    {'Shows': 135, 'Phrase': 'hamster free zip archiver'},\n",
       "    {'Shows': 134, 'Phrase': 'vr hamster'},\n",
       "    {'Shows': 134, 'Phrase': 'x hamsters sex'},\n",
       "    {'Phrase': 'x hamster video', 'Shows': 132},\n",
       "    {'Phrase': 'hamster song скачать', 'Shows': 132},\n",
       "    {'Phrase': 'hamster жена', 'Shows': 131},\n",
       "    {'Phrase': 'hamster москва', 'Shows': 128},\n",
       "    {'Phrase': 'hamster com porno', 'Shows': 128},\n",
       "    {'Phrase': 'hamster vprok', 'Shows': 125},\n",
       "    {'Phrase': '3d hamster торрент', 'Shows': 125},\n",
       "    {'Shows': 125, 'Phrase': '3ds hamster'},\n",
       "    {'Phrase': 'hamster cookie', 'Shows': 124},\n",
       "    {'Phrase': 'hamster teens', 'Shows': 124},\n",
       "    {'Shows': 123, 'Phrase': 'hamster free converter'},\n",
       "    {'Shows': 123, 'Phrase': 'hamster 3ds max'},\n",
       "    {'Phrase': 'скачать песню hamster dance', 'Shows': 122},\n",
       "    {'Phrase': 'hamster 3d max', 'Shows': 122},\n",
       "    {'Shows': 122, 'Phrase': 'porno gay hamster'},\n",
       "    {'Phrase': 'hamster официальный сайт', 'Shows': 120},\n",
       "    {'Phrase': 'хентай hamster', 'Shows': 119},\n",
       "    {'Phrase': 'hamster fucks', 'Shows': 119},\n",
       "    {'Shows': 119, 'Phrase': 'fucking hamster'},\n",
       "    {'Shows': 118, 'Phrase': 'hamster +and gretel'},\n",
       "    {'Shows': 118, 'Phrase': 'hamster old granny'},\n",
       "    {'Shows': 117, 'Phrase': 'hamster pets'},\n",
       "    {'Shows': 117, 'Phrase': '3d hamster скачать торрент'},\n",
       "    {'Shows': 117, 'Phrase': 'hamster game vprok'},\n",
       "    {'Shows': 117, 'Phrase': 'hamster зрелая порно'},\n",
       "    {'Phrase': '+the northern grand duke s hamster', 'Shows': 116},\n",
       "    {'Phrase': 'hamster промокод', 'Shows': 116},\n",
       "    {'Shows': 115, 'Phrase': 'hamster escape'},\n",
       "    {'Shows': 115, 'Phrase': 'hamster house'},\n",
       "    {'Phrase': 'порно скачивать hamster', 'Shows': 114},\n",
       "    {'Phrase': 'hamster free porno', 'Shows': 113},\n",
       "    {'Phrase': '3d hamster 3ds max', 'Shows': 112},\n",
       "    {'Phrase': 'hamster милфа мастурбация оргазм веб камера', 'Shows': 111},\n",
       "    {'Phrase': 'hamster youtube', 'Shows': 111},\n",
       "    {'Phrase': 'hamster милф мастурбация оргазм веб камера', 'Shows': 111},\n",
       "    {'Shows': 110, 'Phrase': 'hamster archiver скачать'},\n",
       "    {'Phrase': 'hamster ball', 'Shows': 109},\n",
       "    {'Phrase': 'x hamsters life', 'Shows': 108},\n",
       "    {'Shows': 108, 'Phrase': 'www hamster com'},\n",
       "    {'Shows': 107, 'Phrase': 'mini hamster'},\n",
       "    {'Shows': 107, 'Phrase': 'бесплатный hamster порно'},\n",
       "    {'Shows': 107, 'Phrase': 'hamsters com video'},\n",
       "    {'Shows': 106, 'Phrase': 'hamster порно веб'},\n",
       "    {'Phrase': 'chickenhare +and +the hamster', 'Shows': 105},\n",
       "    {'Phrase': 'hamster английский', 'Shows': 105},\n",
       "    {'Phrase': 'laga hamster', 'Shows': 105},\n",
       "    {'Phrase': 'versele laga hamster', 'Shows': 105},\n",
       "    {'Shows': 104, 'Phrase': 'hamster web'},\n",
       "    {'Phrase': 'hamster 5', 'Shows': 104},\n",
       "    {'Phrase': 'x hamster japan', 'Shows': 104},\n",
       "    {'Phrase': 'hamster cookie factory', 'Shows': 103},\n",
       "    {'Phrase': 'home hamster', 'Shows': 103},\n",
       "    {'Phrase': 'http hamster', 'Shows': 103},\n",
       "    {'Shows': 102, 'Phrase': 'hamster love'},\n",
       "    {'Phrase': 'скачать hamster free', 'Shows': 102},\n",
       "    {'Shows': 102, 'Phrase': 'hamster бабушки'},\n",
       "    {'Shows': 102, 'Phrase': '3d hamster промокод'},\n",
       "    {'Shows': 102, 'Phrase': 'hamster maze скачать'},\n",
       "    {'Shows': 102, 'Phrase': '4 hamster'},\n",
       "    {'Shows': 102, 'Phrase': 'chickenhare +and +the hamster +of darkness'},\n",
       "    {'Shows': 102, 'Phrase': 'hamster big tits'},\n",
       "    {'Phrase': 'гей hamster', 'Shows': 101},\n",
       "    {'Shows': 101, 'Phrase': 'скачать взлом hamsters'},\n",
       "    {'Phrase': 'fr hamster', 'Shows': 101},\n",
       "    {'Phrase': 'big ass hamster', 'Shows': 101},\n",
       "    {'Shows': 100, 'Phrase': 'hamster time'},\n",
       "    {'Phrase': 'hamster минская', 'Shows': 100},\n",
       "    {'Shows': 99, 'Phrase': 'hamster retro'},\n",
       "    {'Phrase': 'hamster чат', 'Shows': 99},\n",
       "    {'Phrase': 'ххх hamsters', 'Shows': 99},\n",
       "    {'Phrase': 'hamster laiv', 'Shows': 98},\n",
       "    {'Phrase': 'порно hamster милф мастурбация веб камера', 'Shows': 98},\n",
       "    {'Shows': 98, 'Phrase': 'porno hd hamster'},\n",
       "    {'Shows': 98, 'Phrase': 'hamster wife'},\n",
       "    {'Phrase': 'порно онлайн hamster', 'Shows': 96},\n",
       "    {'Phrase': 'hamster live porn', 'Shows': 96},\n",
       "    {'Shows': 95, 'Phrase': 'hamsters игра скачать'},\n",
       "    {'Shows': 95, 'Phrase': 'x hamster indo'},\n",
       "    {'Shows': 95, 'Phrase': 'hamster lave'},\n",
       "    {'Phrase': 'hamster meme', 'Shows': 94},\n",
       "    {'Phrase': 'x hamster indonesia', 'Shows': 94},\n",
       "    {'Shows': 94, 'Phrase': 'программы hamster'},\n",
       "    {'Phrase': 'х hamster порно', 'Shows': 94},\n",
       "    {'Shows': 93, 'Phrase': 'hamster rus'},\n",
       "    {'Shows': 93, 'Phrase': 'hamster porno film'},\n",
       "    {'Phrase': 'hamster boys', 'Shows': 93},\n",
       "    {'Shows': 93, 'Phrase': 'hamster трансы'},\n",
       "    {'Phrase': 'hamster reader скачать', 'Shows': 92},\n",
       "    {'Shows': 92, 'Phrase': 'hamster перевод +на русский'},\n",
       "    {'Shows': 92, 'Phrase': 'скачать hamster zip'},\n",
       "    {'Phrase': 'hamster chat', 'Shows': 90},\n",
       "    {'Shows': 89, 'Phrase': 'порно hd hamster'},\n",
       "    {'Shows': 89, 'Phrase': 'ferplast hamster'},\n",
       "    {'Shows': 89, 'Phrase': 'h hamster'},\n",
       "    {'Phrase': 'hamster hairy porno', 'Shows': 88},\n",
       "    {'Shows': 88, 'Phrase': 'hamster pdf скачать'},\n",
       "    {'Shows': 88, 'Phrase': 'man hamster'},\n",
       "    {'Phrase': 'hamster ebook', 'Shows': 86},\n",
       "    {'Shows': 86, 'Phrase': 'hamster ebook converter'},\n",
       "    {'Shows': 86, 'Phrase': 'x hamster xxx'},\n",
       "    {'Shows': 86, 'Phrase': 'black hamster'},\n",
       "    {'Phrase': 'hamster pdf reader скачать', 'Shows': 84},\n",
       "    {'Shows': 84, 'Phrase': 'hamster daddy'},\n",
       "    {'Shows': 84, 'Phrase': 'new hamster'},\n",
       "    {'Phrase': 'hamster вк', 'Shows': 83},\n",
       "    {'Shows': 83, 'Phrase': 'hamster gif'},\n",
       "    {'Phrase': 'hamster pissing', 'Shows': 83},\n",
       "    {'Phrase': 'piss hamster', 'Shows': 83},\n",
       "    {'Shows': 82, 'Phrase': 'hamster forum'},\n",
       "    {'Shows': 82, 'Phrase': 'hamster zoo porn'},\n",
       "    {'Phrase': 'hamster town', 'Shows': 82},\n",
       "    {'Phrase': 'hamster манхва', 'Shows': 82},\n",
       "    {'Shows': 82, 'Phrase': 'hamster friend'},\n",
       "    {'Shows': 81, 'Phrase': 'порно фото hamster'},\n",
       "    {'Shows': 81, 'Phrase': 'dog hamster'},\n",
       "    {'Shows': 81, 'Phrase': 'hamster turkish'},\n",
       "    {'Shows': 80, 'Phrase': 'hamster life vebkamer'},\n",
       "    {'Shows': 80, 'Phrase': 'mature porn hamsters'},\n",
       "    {'Phrase': 'скачать hamster zip archiver', 'Shows': 80},\n",
       "    {'Shows': 80, 'Phrase': 'https hamster com'},\n",
       "    {'Shows': 80, 'Phrase': 'hamster фильмы'},\n",
       "    {'Shows': 80, 'Phrase': 'hamster волосатые'},\n",
       "    {'Phrase': 'hamster camera', 'Shows': 79}],\n",
       "   'SearchedAlso': [{'Shows': 288300, 'Phrase': 'стич'},\n",
       "    {'Phrase': 'бурундук', 'Shows': 353550},\n",
       "    {'Shows': 138199, 'Phrase': 'каштанка'},\n",
       "    {'Shows': 1907395, 'Phrase': 'классика'},\n",
       "    {'Shows': 13566, 'Phrase': 'каштанка ком'},\n",
       "    {'Phrase': 'мурка', 'Shows': 155448},\n",
       "    {'Phrase': 'полно', 'Shows': 10387861},\n",
       "    {'Phrase': 'венди', 'Shows': 103233},\n",
       "    {'Shows': 64483, 'Phrase': 'песчанка'},\n",
       "    {'Shows': 133067, 'Phrase': 'хомячок'},\n",
       "    {'Phrase': 'classy', 'Shows': 13813},\n",
       "    {'Phrase': 'огромный', 'Shows': 3005339},\n",
       "    {'Shows': 45632, 'Phrase': 'мастерс'},\n",
       "    {'Phrase': 'мэри', 'Shows': 833358},\n",
       "    {'Phrase': 'классики', 'Shows': 1907398},\n",
       "    {'Shows': 876726, 'Phrase': 'classic'},\n",
       "    {'Phrase': 'барашек', 'Shows': 190387},\n",
       "    {'Shows': 439246, 'Phrase': 'самойлова'},\n",
       "    {'Phrase': 'hedgehog', 'Shows': 73961},\n",
       "    {'Phrase': 'хомяк', 'Shows': 991273}],\n",
       "   'GeoID': []}]}"
      ]
     },
     "execution_count": 9,
     "metadata": {},
     "output_type": "execute_result"
    }
   ],
   "source": [
    "direct.get_wordstat_report(report_id=7037233)"
   ]
  },
  {
   "cell_type": "code",
   "execution_count": 10,
   "id": "db56ec82",
   "metadata": {},
   "outputs": [
    {
     "data": {
      "text/plain": [
       "{'data': 1}"
      ]
     },
     "execution_count": 10,
     "metadata": {},
     "output_type": "execute_result"
    }
   ],
   "source": [
    "direct.delete_wordstat_report(report_id=7037192)"
   ]
  },
  {
   "cell_type": "code",
   "execution_count": 11,
   "id": "c0a2367d",
   "metadata": {},
   "outputs": [
    {
     "data": {
      "text/plain": [
       "{'data': 7037265}"
      ]
     },
     "execution_count": 11,
     "metadata": {},
     "output_type": "execute_result"
    }
   ],
   "source": [
    "direct.create_new_forecast(phrases=['hamster'])"
   ]
  },
  {
   "cell_type": "code",
   "execution_count": 12,
   "id": "01d42c18",
   "metadata": {},
   "outputs": [
    {
     "data": {
      "text/plain": [
       "{'data': [{'ForecastID': 7037252, 'StatusForecast': 'Pending'},\n",
       "  {'ForecastID': 7037257, 'StatusForecast': 'Pending'},\n",
       "  {'ForecastID': 7037265, 'StatusForecast': 'Pending'}]}"
      ]
     },
     "execution_count": 12,
     "metadata": {},
     "output_type": "execute_result"
    }
   ],
   "source": [
    "direct.get_forecast_list()"
   ]
  },
  {
   "cell_type": "code",
   "execution_count": 13,
   "id": "9be9f9b4",
   "metadata": {},
   "outputs": [
    {
     "data": {
      "text/plain": [
       "{'error_code': 74,\n",
       " 'error_str': 'Forecast report is being generated',\n",
       " 'error_detail': ''}"
      ]
     },
     "execution_count": 13,
     "metadata": {},
     "output_type": "execute_result"
    }
   ],
   "source": [
    "direct.get_forecast(forecast_id=7037252)"
   ]
  },
  {
   "cell_type": "code",
   "execution_count": 14,
   "id": "65c3f065",
   "metadata": {},
   "outputs": [
    {
     "data": {
      "text/plain": [
       "{'data': 1}"
      ]
     },
     "execution_count": 14,
     "metadata": {},
     "output_type": "execute_result"
    }
   ],
   "source": [
    "direct.delete_forecast_report(forecast_id=7037265)"
   ]
  },
  {
   "cell_type": "code",
   "execution_count": 15,
   "id": "244b26c0",
   "metadata": {},
   "outputs": [
    {
     "data": {
      "text/plain": [
       "{'data': [{'StatusForecast': 'Pending', 'ForecastID': 7037252},\n",
       "  {'ForecastID': 7037257, 'StatusForecast': 'Pending'}]}"
      ]
     },
     "execution_count": 15,
     "metadata": {},
     "output_type": "execute_result"
    }
   ],
   "source": [
    "direct.get_forecast_list()"
   ]
  },
  {
   "cell_type": "code",
   "execution_count": null,
   "id": "ba62f813",
   "metadata": {},
   "outputs": [],
   "source": []
  },
  {
   "cell_type": "code",
   "execution_count": null,
   "id": "11107ce9",
   "metadata": {},
   "outputs": [],
   "source": []
  },
  {
   "cell_type": "code",
   "execution_count": 16,
   "id": "c55aba59",
   "metadata": {},
   "outputs": [],
   "source": [
    "direct2 = YandexDirectEcomru(login=login2, token=token2, sandbox=True)"
   ]
  },
  {
   "cell_type": "code",
   "execution_count": 17,
   "id": "59948566",
   "metadata": {},
   "outputs": [
    {
     "data": {
      "text/plain": [
       "{'result': {'Campaigns': [{'Name': 'Test API Sandbox campaign 1',\n",
       "    'Id': 440596},\n",
       "   {'Id': 440597, 'Name': 'Test API Sandbox campaign 2'},\n",
       "   {'Id': 440598, 'Name': 'Test API Sandbox campaign 3'}]}}"
      ]
     },
     "execution_count": 17,
     "metadata": {},
     "output_type": "execute_result"
    }
   ],
   "source": [
    "direct2.get_campaigns()"
   ]
  },
  {
   "cell_type": "code",
   "execution_count": 18,
   "id": "f411b8d0",
   "metadata": {},
   "outputs": [
    {
     "data": {
      "text/plain": [
       "'пух'"
      ]
     },
     "execution_count": 18,
     "metadata": {},
     "output_type": "execute_result"
    }
   ],
   "source": [
    "ph = (u'пух').encode().decode('utf8')\n",
    "ph"
   ]
  },
  {
   "cell_type": "code",
   "execution_count": 19,
   "id": "77dff273",
   "metadata": {},
   "outputs": [],
   "source": [
    "# ph = ('пух -винни').encode('UTF8')"
   ]
  },
  {
   "cell_type": "code",
   "execution_count": 20,
   "id": "ad075f62",
   "metadata": {},
   "outputs": [
    {
     "data": {
      "text/plain": [
       "{'error_str': 'Invalid request',\n",
       " 'error_detail': 'Request encoding is not UTF8',\n",
       " 'error_code': 501}"
      ]
     },
     "execution_count": 20,
     "metadata": {},
     "output_type": "execute_result"
    }
   ],
   "source": [
    "direct2.create_new_wordstat_report(phrases=[ph])"
   ]
  },
  {
   "cell_type": "code",
   "execution_count": null,
   "id": "d00bc766",
   "metadata": {},
   "outputs": [],
   "source": []
  }
 ],
 "metadata": {
  "kernelspec": {
   "display_name": "Python 3 (ipykernel)",
   "language": "python",
   "name": "python3"
  },
  "language_info": {
   "codemirror_mode": {
    "name": "ipython",
    "version": 3
   },
   "file_extension": ".py",
   "mimetype": "text/x-python",
   "name": "python",
   "nbconvert_exporter": "python",
   "pygments_lexer": "ipython3",
   "version": "3.8.11"
  }
 },
 "nbformat": 4,
 "nbformat_minor": 5
}
